{
 "cells": [
  {
   "cell_type": "code",
   "execution_count": 264,
   "metadata": {},
   "outputs": [],
   "source": [
    "import numpy as np\n",
    "import csv\n",
    "\n",
    "from glob import glob\n",
    "from utils import *\n",
    "from torch.utils.data import DataLoader, TensorDataset\n",
    "from MDINet2c import MDINet2c\n",
    "\n",
    "device = torch.device(\"cuda\") if torch.cuda.is_available() else torch.device(\"cpu\")"
   ]
  },
  {
   "cell_type": "code",
   "execution_count": 265,
   "metadata": {},
   "outputs": [],
   "source": [
    "def load_data(index, imgs_path):\n",
    "    imgs = {}\n",
    "    for i in range(len(imgs_path)):\n",
    "        num = str(imgs_path[i][-8:-4])\n",
    "        if num in index:\n",
    "            if num not in imgs:\n",
    "                imgs[num] = []\n",
    "            img = np.load(imgs_path[i])\n",
    "            img = img / 255.0\n",
    "            imgs[num].append(img)\n",
    "    return imgs\n",
    "\n",
    "def generate_data(imgs, index):\n",
    "    train_imgs = []\n",
    "    for key in index:\n",
    "        for i in range(len(imgs[key])):\n",
    "            train_imgs.append(imgs[key][i])\n",
    "    train_imgs = np.array(train_imgs)\n",
    "    return train_imgs"
   ]
  },
  {
   "cell_type": "code",
   "execution_count": 266,
   "metadata": {},
   "outputs": [],
   "source": [
    "def test(val_loader, model, fold):\n",
    "    set_randomSeed()\n",
    "    preds_list = []\n",
    "\n",
    "    model.load_state_dict(torch.load('./model_10_pth/' + str('fold_') + str(fold+1) + '.pth'))\n",
    "\n",
    "    device = torch.device('cuda' if torch.cuda.is_available() else 'cpu')\n",
    "    model.to(device)\n",
    "\n",
    "    with torch.no_grad():\n",
    "        for i, batch in enumerate(val_loader):\n",
    "            inputs = batch[0].to(device)\n",
    "            inputs.to(device)\n",
    "            model.eval()\n",
    "            preds = model(inputs)\n",
    "\n",
    "            preds = preds.data.cpu().numpy()\n",
    "\n",
    "            preds[preds > 0.5] = 1\n",
    "            preds[preds != 1] = 0\n",
    "            preds_list.append(int(preds[0][0]))\n",
    "    return preds_list"
   ]
  },
  {
   "cell_type": "code",
   "execution_count": 267,
   "metadata": {},
   "outputs": [],
   "source": [
    "import warnings\n",
    "warnings.filterwarnings(\"ignore\")\n",
    "\n",
    "f = open('./predict.csv', 'w')\n",
    "writer = csv.writer(f)\n",
    "\n",
    "header = ['Nodule', 'predict 1', 'predict 2', 'predict 3', 'predict 4', 'predict 5', \n",
    "          'predict 6', 'predict 7', 'predict 8', 'predict 9', 'predict 10', 'Diagnostic result']\n",
    "\n",
    "writer.writerow(header)\n",
    "\n",
    "imgs_path = glob(f'./texture_images/*.npy')\n",
    "imgs_path.sort()\n",
    "\n",
    "val_index = []\n",
    "for i in range(len(imgs_path)): \n",
    "    val_index.append(str(imgs_path[i][-8:-4]))\n",
    "\n",
    "imgs = load_data(val_index, imgs_path)\n",
    "\n",
    "pred_all = []\n",
    "\n",
    "for pth_number in range(10):\n",
    "    val_imgs = generate_data(imgs, val_index)     \n",
    "    val_imgs = torch.FloatTensor(val_imgs)\n",
    "    set_randomSeed()\n",
    "    \n",
    "    val_set = TensorDataset(val_imgs)\n",
    "    val_loader = DataLoader(val_set, shuffle=False)\n",
    "    pred_all.append(test(val_loader=val_loader, model=DINet2c(2, 1), fold=pth_number))\n",
    "\n",
    "for i in range(len(imgs_path)): \n",
    "    result = 'Benign'\n",
    "    check = pred_all[0][i] + pred_all[1][i] + pred_all[2][i] + pred_all[3][i] + pred_all[4][i] + pred_all[5][i] + pred_all[6][i] + pred_all[7][i] + pred_all[8][i] + pred_all[9][i]\n",
    "    if check > 5: \n",
    "        result = 'Malignant'\n",
    "    elif check == 5: \n",
    "        result = 'Indeterminate'\n",
    "    \n",
    "    row = [val_index[i] + str('.npy'), pred_all[0][i], pred_all[1][i], pred_all[2][i], pred_all[3][i], pred_all[4][i], pred_all[5][i], \n",
    "           pred_all[6][i], pred_all[7][i], pred_all[8][i], pred_all[9][i], result]\n",
    "    writer.writerow(row)\n",
    "\n",
    "f.close()"
   ]
  }
 ],
 "metadata": {
  "kernelspec": {
   "display_name": "yan_lung3",
   "language": "python",
   "name": "python3"
  },
  "language_info": {
   "codemirror_mode": {
    "name": "ipython",
    "version": 3
   },
   "file_extension": ".py",
   "mimetype": "text/x-python",
   "name": "python",
   "nbconvert_exporter": "python",
   "pygments_lexer": "ipython3",
   "version": "3.7.13"
  },
  "orig_nbformat": 4,
  "vscode": {
   "interpreter": {
    "hash": "9bf884ec545a3ca2315bd1f1437a666ae62dbf8a81c529f694ff7f301453fef1"
   }
  }
 },
 "nbformat": 4,
 "nbformat_minor": 2
}
